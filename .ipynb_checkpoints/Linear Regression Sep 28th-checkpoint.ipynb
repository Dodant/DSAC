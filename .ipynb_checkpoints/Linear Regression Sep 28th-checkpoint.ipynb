{
 "cells": [
  {
   "cell_type": "code",
   "execution_count": 1,
   "metadata": {},
   "outputs": [],
   "source": [
    "import matplotlib.pyplot as plt\n",
    "import pandas as pd\n",
    "import numpy as np\n",
    "%matplotlib inline"
   ]
  },
  {
   "cell_type": "markdown",
   "metadata": {},
   "source": [
    "# Linear Regression (선형 회귀)"
   ]
  },
  {
   "cell_type": "code",
   "execution_count": 31,
   "metadata": {},
   "outputs": [
    {
     "data": {
      "text/plain": [
       "[<matplotlib.lines.Line2D at 0x117d1be10>]"
      ]
     },
     "execution_count": 31,
     "metadata": {},
     "output_type": "execute_result"
    },
    {
     "data": {
      "image/png": "[encoded data removed]",
      "text/plain": [
       "<Figure size 360x360 with 1 Axes>"
      ]
     },
     "metadata": {
      "needs_background": "light"
     },
     "output_type": "display_data"
    }
   ],
   "source": [
    "n = 100\n",
    "x = np.random.randn(n)\n",
    "y = 2.5 * x + 0.7           # w = 2.5, b = 0.7\n",
    "y = y + np.random.randn(n)  # noise\n",
    "\n",
    "plt.figure(figsize=(5,5))\n",
    "plt.scatter(x,y)\n",
    "\n",
    "xx = np.linspace(-3,3,100)\n",
    "yy = w * xx + b\n",
    "plt.plot(xx,yy,c='r')"
   ]
  },
  {
   "cell_type": "code",
   "execution_count": 33,
   "metadata": {},
   "outputs": [
    {
     "name": "stdout",
     "output_type": "stream",
     "text": [
      "epoch =  0 error =  11.16 w =  0.27 b =  -0.49\n",
      "epoch =  4 error =  4.84 w =  1.19 b =  -0.06\n",
      "epoch =  8 error =  2.54 w =  1.73 b =  0.22\n",
      "epoch =  12 error =  1.7 w =  2.05 b =  0.4\n",
      "epoch =  16 error =  1.39 w =  2.24 b =  0.52\n",
      "epoch =  20 error =  1.28 w =  2.36 b =  0.59\n",
      "epoch =  24 error =  1.24 w =  2.42 b =  0.64\n",
      "epoch =  28 error =  1.22 w =  2.46 b =  0.67\n",
      "epoch =  32 error =  1.22 w =  2.49 b =  0.69\n",
      "epoch =  36 error =  1.21 w =  2.5 b =  0.71\n",
      "epoch =  40 error =  1.21 w =  2.51 b =  0.72\n",
      "epoch =  44 error =  1.21 w =  2.51 b =  0.72\n",
      "epoch =  48 error =  1.21 w =  2.52 b =  0.73\n",
      "epoch =  52 error =  1.21 w =  2.52 b =  0.73\n",
      "epoch =  56 error =  1.21 w =  2.52 b =  0.73\n",
      "epoch =  60 error =  1.21 w =  2.52 b =  0.73\n",
      "epoch =  64 error =  1.21 w =  2.52 b =  0.73\n",
      "epoch =  68 error =  1.21 w =  2.52 b =  0.73\n",
      "epoch =  72 error =  1.21 w =  2.52 b =  0.73\n",
      "epoch =  76 error =  1.21 w =  2.52 b =  0.73\n",
      "epoch =  80 error =  1.21 w =  2.52 b =  0.73\n",
      "epoch =  84 error =  1.21 w =  2.52 b =  0.73\n",
      "epoch =  88 error =  1.21 w =  2.52 b =  0.73\n",
      "epoch =  92 error =  1.21 w =  2.52 b =  0.73\n",
      "epoch =  96 error =  1.21 w =  2.52 b =  0.73\n",
      "\n",
      "epoch =  99 error =  1.21 w =  2.52 b =  0.73\n"
     ]
    }
   ],
   "source": [
    "w = np.random.randn()\n",
    "b = np.random.randn()\n",
    "\n",
    "lr = 0.1    # learning rate\n",
    "n_epoch = 100\n",
    "\n",
    "for epoch in range(n_epoch):\n",
    "    y_pred = w * x + b\n",
    "    error = ((y_pred - y) ** 2).mean()   # MSE - mean square error\n",
    "    if error < 0.1:\n",
    "        break\n",
    "    w = w - lr * ((y_pred - y) * x).mean()\n",
    "    b = b - lr * (y_pred - y).mean()\n",
    "    \n",
    "    if (epoch%4 == 0):\n",
    "        print(\"epoch = \", epoch, \"error = \", error.round(2), \"w = \", w.round(2), \"b = \", b.round(2))\n",
    "        \n",
    "print(\"\\nepoch = \", epoch, \"error = \", error.round(2), \"w = \", w.round(2), \"b = \", b.round(2))"
   ]
  },
  {
   "cell_type": "markdown",
   "metadata": {},
   "source": [
    "# Using ML Library Function"
   ]
  },
  {
   "cell_type": "code",
   "execution_count": null,
   "metadata": {},
   "outputs": [],
   "source": [
    "from sklearn.linear_model import LinearRegression\n",
    "\n",
    "x = np.random.randn(n)\n",
    "y = 2.5 * x + 0.7           # w = 2.5, b = 0.7\n",
    "y = y + np.random.randn(n)  # noise"
   ]
  }
 ],
 "metadata": {
  "kernelspec": {
   "display_name": "Python 3",
   "language": "python",
   "name": "python3"
  },
  "language_info": {
   "codemirror_mode": {
    "name": "ipython",
    "version": 3
   },
   "file_extension": ".py",
   "mimetype": "text/x-python",
   "name": "python",
   "nbconvert_exporter": "python",
   "pygments_lexer": "ipython3",
   "version": "3.7.3"
  }
 },
 "nbformat": 4,
 "nbformat_minor": 2
}
