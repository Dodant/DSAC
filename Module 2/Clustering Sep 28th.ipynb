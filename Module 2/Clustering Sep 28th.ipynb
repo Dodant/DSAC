{
 "cells": [
  {
   "cell_type": "code",
   "execution_count": 1,
   "metadata": {},
   "outputs": [],
   "source": [
    "import matplotlib.pyplot as plt\n",
    "import pandas as pd\n",
    "import numpy as np\n",
    "%matplotlib inline"
   ]
  },
  {
   "cell_type": "code",
   "execution_count": 91,
   "metadata": {},
   "outputs": [
    {
     "data": {
      "text/html": [
       "<div>\n",
       "<style scoped>\n",
       "    .dataframe tbody tr th:only-of-type {\n",
       "        vertical-align: middle;\n",
       "    }\n",
       "\n",
       "    .dataframe tbody tr th {\n",
       "        vertical-align: top;\n",
       "    }\n",
       "\n",
       "    .dataframe thead th {\n",
       "        text-align: right;\n",
       "    }\n",
       "</style>\n",
       "<table border=\"1\" class=\"dataframe\">\n",
       "  <thead>\n",
       "    <tr style=\"text-align: right;\">\n",
       "      <th></th>\n",
       "      <th>0</th>\n",
       "      <th>1</th>\n",
       "      <th>2</th>\n",
       "      <th>3</th>\n",
       "      <th>4</th>\n",
       "      <th>5</th>\n",
       "      <th>6</th>\n",
       "      <th>7</th>\n",
       "      <th>8</th>\n",
       "      <th>9</th>\n",
       "      <th>10</th>\n",
       "      <th>11</th>\n",
       "      <th>12</th>\n",
       "      <th>13</th>\n",
       "      <th>14</th>\n",
       "      <th>15</th>\n",
       "      <th>16</th>\n",
       "      <th>17</th>\n",
       "      <th>18</th>\n",
       "    </tr>\n",
       "  </thead>\n",
       "  <tbody>\n",
       "    <tr>\n",
       "      <th>구분</th>\n",
       "      <td>강원</td>\n",
       "      <td>개성</td>\n",
       "      <td>경기</td>\n",
       "      <td>경남</td>\n",
       "      <td>경북</td>\n",
       "      <td>광주</td>\n",
       "      <td>대구</td>\n",
       "      <td>대전</td>\n",
       "      <td>부산</td>\n",
       "      <td>서울</td>\n",
       "      <td>세종</td>\n",
       "      <td>울산</td>\n",
       "      <td>인천</td>\n",
       "      <td>전남</td>\n",
       "      <td>전북</td>\n",
       "      <td>제주</td>\n",
       "      <td>충남</td>\n",
       "      <td>충북</td>\n",
       "      <td>합계</td>\n",
       "    </tr>\n",
       "    <tr>\n",
       "      <th>주거용</th>\n",
       "      <td>1940933</td>\n",
       "      <td>0</td>\n",
       "      <td>16587710</td>\n",
       "      <td>4260988</td>\n",
       "      <td>3302463</td>\n",
       "      <td>1954876</td>\n",
       "      <td>3151904</td>\n",
       "      <td>1872890</td>\n",
       "      <td>4473510</td>\n",
       "      <td>13131172</td>\n",
       "      <td>384903</td>\n",
       "      <td>1487143</td>\n",
       "      <td>3856852</td>\n",
       "      <td>2284124</td>\n",
       "      <td>2326183</td>\n",
       "      <td>782601</td>\n",
       "      <td>2691823</td>\n",
       "      <td>2027281</td>\n",
       "      <td>64576423</td>\n",
       "    </tr>\n",
       "    <tr>\n",
       "      <th>공공용</th>\n",
       "      <td>1400421</td>\n",
       "      <td>0</td>\n",
       "      <td>5533662</td>\n",
       "      <td>1427560</td>\n",
       "      <td>1578115</td>\n",
       "      <td>565527</td>\n",
       "      <td>826396</td>\n",
       "      <td>954681</td>\n",
       "      <td>1305876</td>\n",
       "      <td>3581534</td>\n",
       "      <td>299675</td>\n",
       "      <td>489865</td>\n",
       "      <td>921748</td>\n",
       "      <td>964024</td>\n",
       "      <td>1096968</td>\n",
       "      <td>301727</td>\n",
       "      <td>1089613</td>\n",
       "      <td>1267140</td>\n",
       "      <td>22204112</td>\n",
       "    </tr>\n",
       "    <tr>\n",
       "      <th>서비스업</th>\n",
       "      <td>6203749</td>\n",
       "      <td>0</td>\n",
       "      <td>33434551</td>\n",
       "      <td>8667737</td>\n",
       "      <td>8487402</td>\n",
       "      <td>3174973</td>\n",
       "      <td>5470438</td>\n",
       "      <td>3955921</td>\n",
       "      <td>7582169</td>\n",
       "      <td>27647345</td>\n",
       "      <td>645424</td>\n",
       "      <td>3649386</td>\n",
       "      <td>7154416</td>\n",
       "      <td>5690659</td>\n",
       "      <td>4910318</td>\n",
       "      <td>2308732</td>\n",
       "      <td>7164439</td>\n",
       "      <td>4804638</td>\n",
       "      <td>134748546</td>\n",
       "    </tr>\n",
       "    <tr>\n",
       "      <th>업무용합계</th>\n",
       "      <td>7604170</td>\n",
       "      <td>0</td>\n",
       "      <td>38968213</td>\n",
       "      <td>10095297</td>\n",
       "      <td>10065517</td>\n",
       "      <td>3740500</td>\n",
       "      <td>6296834</td>\n",
       "      <td>4910602</td>\n",
       "      <td>8888045</td>\n",
       "      <td>31228879</td>\n",
       "      <td>945099</td>\n",
       "      <td>4139251</td>\n",
       "      <td>8076164</td>\n",
       "      <td>6654683</td>\n",
       "      <td>6007286</td>\n",
       "      <td>2610459</td>\n",
       "      <td>8254052</td>\n",
       "      <td>6071778</td>\n",
       "      <td>156952658</td>\n",
       "    </tr>\n",
       "  </tbody>\n",
       "</table>\n",
       "</div>"
      ],
      "text/plain": [
       "            0   1         2         3         4        5        6        7   \\\n",
       "구분          강원  개성        경기        경남        경북       광주       대구       대전   \n",
       "주거용    1940933   0  16587710   4260988   3302463  1954876  3151904  1872890   \n",
       "공공용    1400421   0   5533662   1427560   1578115   565527   826396   954681   \n",
       "서비스업   6203749   0  33434551   8667737   8487402  3174973  5470438  3955921   \n",
       "업무용합계  7604170   0  38968213  10095297  10065517  3740500  6296834  4910602   \n",
       "\n",
       "            8         9       10       11       12       13       14       15  \\\n",
       "구분          부산        서울      세종       울산       인천       전남       전북       제주   \n",
       "주거용    4473510  13131172  384903  1487143  3856852  2284124  2326183   782601   \n",
       "공공용    1305876   3581534  299675   489865   921748   964024  1096968   301727   \n",
       "서비스업   7582169  27647345  645424  3649386  7154416  5690659  4910318  2308732   \n",
       "업무용합계  8888045  31228879  945099  4139251  8076164  6654683  6007286  2610459   \n",
       "\n",
       "            16       17         18  \n",
       "구분          충남       충북         합계  \n",
       "주거용    2691823  2027281   64576423  \n",
       "공공용    1089613  1267140   22204112  \n",
       "서비스업   7164439  4804638  134748546  \n",
       "업무용합계  8254052  6071778  156952658  "
      ]
     },
     "execution_count": 91,
     "metadata": {},
     "output_type": "execute_result"
    }
   ],
   "source": [
    "power_data = pd.read_excel('data/시도별_용도별.xls')\n",
    "power_data.T.head()"
   ]
  },
  {
   "cell_type": "code",
   "execution_count": 92,
   "metadata": {},
   "outputs": [],
   "source": [
    "power = power_data.set_index('구분')\n",
    "power = power.drop(['합계', '개성'])"
   ]
  },
  {
   "cell_type": "code",
   "execution_count": 93,
   "metadata": {},
   "outputs": [],
   "source": [
    "import platform\n",
    "from matplotlib import font_manager, rc\n",
    "\n",
    "rc('font', family='AppleGothic')\n",
    "plt.rcParams['axes.unicode_minus'] = False"
   ]
  },
  {
   "cell_type": "code",
   "execution_count": 94,
   "metadata": {},
   "outputs": [
    {
     "data": {
      "text/plain": [
       "<matplotlib.axes._subplots.AxesSubplot at 0x1a1afd42b0>"
      ]
     },
     "execution_count": 94,
     "metadata": {},
     "output_type": "execute_result"
    },
    {
     "data": {
      "image/png": "[encoded data removed]",
      "text/plain": [
       "<Figure size 720x432 with 1 Axes>"
      ]
     },
     "metadata": {
      "needs_background": "light"
     },
     "output_type": "display_data"
    }
   ],
   "source": [
    "see2 = ['서비스업','제조업']\n",
    "power[see2].plot(kind='barh', figsize=(10,6), stacked = True)"
   ]
  },
  {
   "cell_type": "code",
   "execution_count": 95,
   "metadata": {},
   "outputs": [
    {
     "data": {
      "text/html": [
       "<div>\n",
       "<style scoped>\n",
       "    .dataframe tbody tr th:only-of-type {\n",
       "        vertical-align: middle;\n",
       "    }\n",
       "\n",
       "    .dataframe tbody tr th {\n",
       "        vertical-align: top;\n",
       "    }\n",
       "\n",
       "    .dataframe thead th {\n",
       "        text-align: right;\n",
       "    }\n",
       "</style>\n",
       "<table border=\"1\" class=\"dataframe\">\n",
       "  <thead>\n",
       "    <tr style=\"text-align: right;\">\n",
       "      <th></th>\n",
       "      <th>서비스업</th>\n",
       "      <th>제조업</th>\n",
       "    </tr>\n",
       "    <tr>\n",
       "      <th>구분</th>\n",
       "      <th></th>\n",
       "      <th></th>\n",
       "    </tr>\n",
       "  </thead>\n",
       "  <tbody>\n",
       "    <tr>\n",
       "      <th>강원</th>\n",
       "      <td>6203749</td>\n",
       "      <td>6002286</td>\n",
       "    </tr>\n",
       "    <tr>\n",
       "      <th>경기</th>\n",
       "      <td>33434551</td>\n",
       "      <td>56603327</td>\n",
       "    </tr>\n",
       "    <tr>\n",
       "      <th>경남</th>\n",
       "      <td>8667737</td>\n",
       "      <td>18053778</td>\n",
       "    </tr>\n",
       "    <tr>\n",
       "      <th>경북</th>\n",
       "      <td>8487402</td>\n",
       "      <td>30115601</td>\n",
       "    </tr>\n",
       "    <tr>\n",
       "      <th>광주</th>\n",
       "      <td>3174973</td>\n",
       "      <td>2910768</td>\n",
       "    </tr>\n",
       "  </tbody>\n",
       "</table>\n",
       "</div>"
      ],
      "text/plain": [
       "        서비스업       제조업\n",
       "구분                    \n",
       "강원   6203749   6002286\n",
       "경기  33434551  56603327\n",
       "경남   8667737  18053778\n",
       "경북   8487402  30115601\n",
       "광주   3174973   2910768"
      ]
     },
     "execution_count": 95,
     "metadata": {},
     "output_type": "execute_result"
    }
   ],
   "source": [
    "power2 = power[see2]\n",
    "power2.head()"
   ]
  },
  {
   "cell_type": "code",
   "execution_count": 96,
   "metadata": {},
   "outputs": [
    {
     "data": {
      "text/plain": [
       "(17, 2)"
      ]
     },
     "execution_count": 96,
     "metadata": {},
     "output_type": "execute_result"
    }
   ],
   "source": [
    "power2.shape"
   ]
  },
  {
   "cell_type": "code",
   "execution_count": 97,
   "metadata": {},
   "outputs": [
    {
     "data": {
      "text/html": [
       "<div>\n",
       "<style scoped>\n",
       "    .dataframe tbody tr th:only-of-type {\n",
       "        vertical-align: middle;\n",
       "    }\n",
       "\n",
       "    .dataframe tbody tr th {\n",
       "        vertical-align: top;\n",
       "    }\n",
       "\n",
       "    .dataframe thead th {\n",
       "        text-align: right;\n",
       "    }\n",
       "</style>\n",
       "<table border=\"1\" class=\"dataframe\">\n",
       "  <thead>\n",
       "    <tr style=\"text-align: right;\">\n",
       "      <th></th>\n",
       "      <th>서비스업</th>\n",
       "      <th>제조업</th>\n",
       "    </tr>\n",
       "    <tr>\n",
       "      <th>구분</th>\n",
       "      <th></th>\n",
       "      <th></th>\n",
       "    </tr>\n",
       "  </thead>\n",
       "  <tbody>\n",
       "    <tr>\n",
       "      <th>강원</th>\n",
       "      <td>6203749</td>\n",
       "      <td>6002286</td>\n",
       "    </tr>\n",
       "    <tr>\n",
       "      <th>경남</th>\n",
       "      <td>8667737</td>\n",
       "      <td>18053778</td>\n",
       "    </tr>\n",
       "    <tr>\n",
       "      <th>경북</th>\n",
       "      <td>8487402</td>\n",
       "      <td>30115601</td>\n",
       "    </tr>\n",
       "    <tr>\n",
       "      <th>광주</th>\n",
       "      <td>3174973</td>\n",
       "      <td>2910768</td>\n",
       "    </tr>\n",
       "    <tr>\n",
       "      <th>대구</th>\n",
       "      <td>5470438</td>\n",
       "      <td>5862633</td>\n",
       "    </tr>\n",
       "    <tr>\n",
       "      <th>대전</th>\n",
       "      <td>3955921</td>\n",
       "      <td>2608343</td>\n",
       "    </tr>\n",
       "    <tr>\n",
       "      <th>부산</th>\n",
       "      <td>7582169</td>\n",
       "      <td>7512588</td>\n",
       "    </tr>\n",
       "    <tr>\n",
       "      <th>세종</th>\n",
       "      <td>645424</td>\n",
       "      <td>1502922</td>\n",
       "    </tr>\n",
       "    <tr>\n",
       "      <th>울산</th>\n",
       "      <td>3649386</td>\n",
       "      <td>25883132</td>\n",
       "    </tr>\n",
       "    <tr>\n",
       "      <th>인천</th>\n",
       "      <td>7154416</td>\n",
       "      <td>12367816</td>\n",
       "    </tr>\n",
       "    <tr>\n",
       "      <th>전남</th>\n",
       "      <td>5690659</td>\n",
       "      <td>21453926</td>\n",
       "    </tr>\n",
       "    <tr>\n",
       "      <th>전북</th>\n",
       "      <td>4910318</td>\n",
       "      <td>12965875</td>\n",
       "    </tr>\n",
       "    <tr>\n",
       "      <th>제주</th>\n",
       "      <td>2308732</td>\n",
       "      <td>241537</td>\n",
       "    </tr>\n",
       "    <tr>\n",
       "      <th>충남</th>\n",
       "      <td>7164439</td>\n",
       "      <td>37057955</td>\n",
       "    </tr>\n",
       "    <tr>\n",
       "      <th>충북</th>\n",
       "      <td>4804638</td>\n",
       "      <td>15883448</td>\n",
       "    </tr>\n",
       "  </tbody>\n",
       "</table>\n",
       "</div>"
      ],
      "text/plain": [
       "       서비스업       제조업\n",
       "구분                   \n",
       "강원  6203749   6002286\n",
       "경남  8667737  18053778\n",
       "경북  8487402  30115601\n",
       "광주  3174973   2910768\n",
       "대구  5470438   5862633\n",
       "대전  3955921   2608343\n",
       "부산  7582169   7512588\n",
       "세종   645424   1502922\n",
       "울산  3649386  25883132\n",
       "인천  7154416  12367816\n",
       "전남  5690659  21453926\n",
       "전북  4910318  12965875\n",
       "제주  2308732    241537\n",
       "충남  7164439  37057955\n",
       "충북  4804638  15883448"
      ]
     },
     "execution_count": 97,
     "metadata": {},
     "output_type": "execute_result"
    }
   ],
   "source": [
    "power2 = power2.drop(['경기','서울'])\n",
    "power2"
   ]
  },
  {
   "cell_type": "code",
   "execution_count": 98,
   "metadata": {},
   "outputs": [
    {
     "data": {
      "image/png": "[encoded data removed]",
      "text/plain": [
       "<Figure size 576x576 with 1 Axes>"
      ]
     },
     "metadata": {
      "needs_background": "light"
     },
     "output_type": "display_data"
    }
   ],
   "source": [
    "plt.figure(figsize=(8,8))\n",
    "plt.scatter(power2['서비스업'], power2['제조업'], c='k', marker='o')\n",
    "plt.xlabel('서비스업')\n",
    "plt.ylabel('제조업')\n",
    "\n",
    "for n in range(power2.shape[0]):\n",
    "    plt.text(power2['서비스업'][n]*1.03, power2['제조업'][n]*0.98,\n",
    "             power2.index[n])"
   ]
  },
  {
   "cell_type": "code",
   "execution_count": 99,
   "metadata": {},
   "outputs": [
    {
     "data": {
      "text/plain": [
       "<function scipy.cluster.hierarchy.dendrogram(Z, p=30, truncate_mode=None, color_threshold=None, get_leaves=True, orientation='top', labels=None, count_sort=False, distance_sort=False, show_leaf_counts=True, no_plot=False, no_labels=False, leaf_font_size=None, leaf_rotation=None, leaf_label_func=None, show_contracted=False, link_color_func=None, ax=None, above_threshold_color='b')>"
      ]
     },
     "execution_count": 99,
     "metadata": {},
     "output_type": "execute_result"
    },
    {
     "data": {
      "image/png": "[encoded data removed]",
      "text/plain": [
       "<Figure size 720x360 with 1 Axes>"
      ]
     },
     "metadata": {
      "needs_background": "light"
     },
     "output_type": "display_data"
    }
   ],
   "source": [
    "# clustering - dendrogram\n",
    "from scipy.cluster.hierarchy import dendrogram, linkage\n",
    "\n",
    "plt.figure(figsize = (10,5))\n",
    "link_dist = linkage(power2, metric='euclidean', method='ward')\n",
    "dendrogram(link_dist, labels=power2.index)\n",
    "dendrogram"
   ]
  },
  {
   "cell_type": "code",
   "execution_count": 100,
   "metadata": {},
   "outputs": [
    {
     "name": "stdout",
     "output_type": "stream",
     "text": [
      "3\n"
     ]
    }
   ],
   "source": [
    "from sklearn.cluster import KMeans\n",
    "\n",
    "k = KMeans(n_clusters=3).fit(power2)\n",
    "print(k.n_clusters)"
   ]
  },
  {
   "cell_type": "code",
   "execution_count": 101,
   "metadata": {},
   "outputs": [
    {
     "data": {
      "text/plain": [
       "array([0, 2, 1, 0, 0, 0, 0, 0, 1, 2, 2, 2, 0, 1, 2], dtype=int32)"
      ]
     },
     "execution_count": 101,
     "metadata": {},
     "output_type": "execute_result"
    }
   ],
   "source": [
    "k.labels_"
   ]
  },
  {
   "cell_type": "code",
   "execution_count": 102,
   "metadata": {},
   "outputs": [
    {
     "data": {
      "text/html": [
       "<div>\n",
       "<style scoped>\n",
       "    .dataframe tbody tr th:only-of-type {\n",
       "        vertical-align: middle;\n",
       "    }\n",
       "\n",
       "    .dataframe tbody tr th {\n",
       "        vertical-align: top;\n",
       "    }\n",
       "\n",
       "    .dataframe thead th {\n",
       "        text-align: right;\n",
       "    }\n",
       "</style>\n",
       "<table border=\"1\" class=\"dataframe\">\n",
       "  <thead>\n",
       "    <tr style=\"text-align: right;\">\n",
       "      <th></th>\n",
       "      <th>서비스업</th>\n",
       "      <th>제조업</th>\n",
       "      <th>클러스터</th>\n",
       "    </tr>\n",
       "    <tr>\n",
       "      <th>구분</th>\n",
       "      <th></th>\n",
       "      <th></th>\n",
       "      <th></th>\n",
       "    </tr>\n",
       "  </thead>\n",
       "  <tbody>\n",
       "    <tr>\n",
       "      <th>강원</th>\n",
       "      <td>6203749</td>\n",
       "      <td>6002286</td>\n",
       "      <td>0</td>\n",
       "    </tr>\n",
       "    <tr>\n",
       "      <th>경남</th>\n",
       "      <td>8667737</td>\n",
       "      <td>18053778</td>\n",
       "      <td>2</td>\n",
       "    </tr>\n",
       "    <tr>\n",
       "      <th>경북</th>\n",
       "      <td>8487402</td>\n",
       "      <td>30115601</td>\n",
       "      <td>1</td>\n",
       "    </tr>\n",
       "    <tr>\n",
       "      <th>광주</th>\n",
       "      <td>3174973</td>\n",
       "      <td>2910768</td>\n",
       "      <td>0</td>\n",
       "    </tr>\n",
       "    <tr>\n",
       "      <th>대구</th>\n",
       "      <td>5470438</td>\n",
       "      <td>5862633</td>\n",
       "      <td>0</td>\n",
       "    </tr>\n",
       "    <tr>\n",
       "      <th>대전</th>\n",
       "      <td>3955921</td>\n",
       "      <td>2608343</td>\n",
       "      <td>0</td>\n",
       "    </tr>\n",
       "    <tr>\n",
       "      <th>부산</th>\n",
       "      <td>7582169</td>\n",
       "      <td>7512588</td>\n",
       "      <td>0</td>\n",
       "    </tr>\n",
       "    <tr>\n",
       "      <th>세종</th>\n",
       "      <td>645424</td>\n",
       "      <td>1502922</td>\n",
       "      <td>0</td>\n",
       "    </tr>\n",
       "    <tr>\n",
       "      <th>울산</th>\n",
       "      <td>3649386</td>\n",
       "      <td>25883132</td>\n",
       "      <td>1</td>\n",
       "    </tr>\n",
       "    <tr>\n",
       "      <th>인천</th>\n",
       "      <td>7154416</td>\n",
       "      <td>12367816</td>\n",
       "      <td>2</td>\n",
       "    </tr>\n",
       "    <tr>\n",
       "      <th>전남</th>\n",
       "      <td>5690659</td>\n",
       "      <td>21453926</td>\n",
       "      <td>2</td>\n",
       "    </tr>\n",
       "    <tr>\n",
       "      <th>전북</th>\n",
       "      <td>4910318</td>\n",
       "      <td>12965875</td>\n",
       "      <td>2</td>\n",
       "    </tr>\n",
       "    <tr>\n",
       "      <th>제주</th>\n",
       "      <td>2308732</td>\n",
       "      <td>241537</td>\n",
       "      <td>0</td>\n",
       "    </tr>\n",
       "    <tr>\n",
       "      <th>충남</th>\n",
       "      <td>7164439</td>\n",
       "      <td>37057955</td>\n",
       "      <td>1</td>\n",
       "    </tr>\n",
       "    <tr>\n",
       "      <th>충북</th>\n",
       "      <td>4804638</td>\n",
       "      <td>15883448</td>\n",
       "      <td>2</td>\n",
       "    </tr>\n",
       "  </tbody>\n",
       "</table>\n",
       "</div>"
      ],
      "text/plain": [
       "       서비스업       제조업  클러스터\n",
       "구분                         \n",
       "강원  6203749   6002286     0\n",
       "경남  8667737  18053778     2\n",
       "경북  8487402  30115601     1\n",
       "광주  3174973   2910768     0\n",
       "대구  5470438   5862633     0\n",
       "대전  3955921   2608343     0\n",
       "부산  7582169   7512588     0\n",
       "세종   645424   1502922     0\n",
       "울산  3649386  25883132     1\n",
       "인천  7154416  12367816     2\n",
       "전남  5690659  21453926     2\n",
       "전북  4910318  12965875     2\n",
       "제주  2308732    241537     0\n",
       "충남  7164439  37057955     1\n",
       "충북  4804638  15883448     2"
      ]
     },
     "execution_count": 102,
     "metadata": {},
     "output_type": "execute_result"
    }
   ],
   "source": [
    "power2['클러스터'] = k.labels_\n",
    "power2"
   ]
  },
  {
   "cell_type": "code",
   "execution_count": 103,
   "metadata": {},
   "outputs": [
    {
     "data": {
      "text/plain": [
       "array([[ 4191629.42857143,  3805868.14285714],\n",
       "       [ 6433742.33333333, 31018896.        ],\n",
       "       [ 6245553.6       , 16144968.6       ]])"
      ]
     },
     "execution_count": 103,
     "metadata": {},
     "output_type": "execute_result"
    }
   ],
   "source": [
    " k.cluster_centers_"
   ]
  },
  {
   "cell_type": "code",
   "execution_count": 104,
   "metadata": {},
   "outputs": [
    {
     "data": {
      "image/png": "[encoded data removed]",
      "text/plain": [
       "<Figure size 720x576 with 1 Axes>"
      ]
     },
     "metadata": {
      "needs_background": "light"
     },
     "output_type": "display_data"
    }
   ],
   "source": [
    "my_markers = ['*','^','o']\n",
    "my_colors = ['r','c','g']\n",
    "\n",
    "plt.figure(figsize=(10,8))\n",
    "plt.xlabel('서비스업')\n",
    "plt.ylabel('제조업')\n",
    "\n",
    "for n in range(power2.shape[0]):\n",
    "    label = k.labels_[n]\n",
    "    plt.scatter(power2['서비스업'][n], power2['제조업'][n], \n",
    "                c=my_colors[label], marker=my_markers[label], s=100)\n",
    "    plt.text(power2['서비스업'][n]*1.03, power2['제조업'][n]*0.98,\n",
    "             power2.index[n])\n",
    "\n",
    "centers = k.cluster_centers_\n",
    "for i in range(k.n_clusters):\n",
    "    plt.scatter(centers[i][0], centers[i][1], c='b', s=50, marker='*')"
   ]
  },
  {
   "cell_type": "code",
   "execution_count": 105,
   "metadata": {},
   "outputs": [
    {
     "data": {
      "text/html": [
       "<div>\n",
       "<style scoped>\n",
       "    .dataframe tbody tr th:only-of-type {\n",
       "        vertical-align: middle;\n",
       "    }\n",
       "\n",
       "    .dataframe tbody tr th {\n",
       "        vertical-align: top;\n",
       "    }\n",
       "\n",
       "    .dataframe thead th {\n",
       "        text-align: right;\n",
       "    }\n",
       "</style>\n",
       "<table border=\"1\" class=\"dataframe\">\n",
       "  <thead>\n",
       "    <tr style=\"text-align: right;\">\n",
       "      <th></th>\n",
       "      <th>서비스업</th>\n",
       "      <th>제조업</th>\n",
       "    </tr>\n",
       "    <tr>\n",
       "      <th>구분</th>\n",
       "      <th></th>\n",
       "      <th></th>\n",
       "    </tr>\n",
       "  </thead>\n",
       "  <tbody>\n",
       "    <tr>\n",
       "      <th>강원</th>\n",
       "      <td>6203749</td>\n",
       "      <td>6002286</td>\n",
       "    </tr>\n",
       "    <tr>\n",
       "      <th>경남</th>\n",
       "      <td>8667737</td>\n",
       "      <td>18053778</td>\n",
       "    </tr>\n",
       "    <tr>\n",
       "      <th>경북</th>\n",
       "      <td>8487402</td>\n",
       "      <td>30115601</td>\n",
       "    </tr>\n",
       "    <tr>\n",
       "      <th>광주</th>\n",
       "      <td>3174973</td>\n",
       "      <td>2910768</td>\n",
       "    </tr>\n",
       "    <tr>\n",
       "      <th>대구</th>\n",
       "      <td>5470438</td>\n",
       "      <td>5862633</td>\n",
       "    </tr>\n",
       "  </tbody>\n",
       "</table>\n",
       "</div>"
      ],
      "text/plain": [
       "       서비스업       제조업\n",
       "구분                   \n",
       "강원  6203749   6002286\n",
       "경남  8667737  18053778\n",
       "경북  8487402  30115601\n",
       "광주  3174973   2910768\n",
       "대구  5470438   5862633"
      ]
     },
     "execution_count": 105,
     "metadata": {},
     "output_type": "execute_result"
    }
   ],
   "source": [
    "power2 = power2.drop('클러스터', axis=1)\n",
    "power2.head()"
   ]
  },
  {
   "cell_type": "markdown",
   "metadata": {},
   "source": [
    "## 정규화된 이후에 클러스터링"
   ]
  },
  {
   "cell_type": "code",
   "execution_count": 106,
   "metadata": {},
   "outputs": [],
   "source": [
    "power3 = power2"
   ]
  },
  {
   "cell_type": "code",
   "execution_count": 107,
   "metadata": {},
   "outputs": [
    {
     "name": "stderr",
     "output_type": "stream",
     "text": [
      "/Users/Dodanto/anaconda3/lib/python3.7/site-packages/sklearn/preprocessing/data.py:645: DataConversionWarning: Data with input dtype int64 were all converted to float64 by StandardScaler.\n",
      "  return self.partial_fit(X, y)\n",
      "/Users/Dodanto/anaconda3/lib/python3.7/site-packages/sklearn/base.py:464: DataConversionWarning: Data with input dtype int64 were all converted to float64 by StandardScaler.\n",
      "  return self.fit(X, **fit_params).transform(X)\n"
     ]
    },
    {
     "data": {
      "text/html": [
       "<div>\n",
       "<style scoped>\n",
       "    .dataframe tbody tr th:only-of-type {\n",
       "        vertical-align: middle;\n",
       "    }\n",
       "\n",
       "    .dataframe tbody tr th {\n",
       "        vertical-align: top;\n",
       "    }\n",
       "\n",
       "    .dataframe thead th {\n",
       "        text-align: right;\n",
       "    }\n",
       "</style>\n",
       "<table border=\"1\" class=\"dataframe\">\n",
       "  <thead>\n",
       "    <tr style=\"text-align: right;\">\n",
       "      <th></th>\n",
       "      <th>서비스업</th>\n",
       "      <th>제조업</th>\n",
       "    </tr>\n",
       "    <tr>\n",
       "      <th>구분</th>\n",
       "      <th></th>\n",
       "      <th></th>\n",
       "    </tr>\n",
       "  </thead>\n",
       "  <tbody>\n",
       "    <tr>\n",
       "      <th>강원</th>\n",
       "      <td>0.393992</td>\n",
       "      <td>-0.676282</td>\n",
       "    </tr>\n",
       "    <tr>\n",
       "      <th>경남</th>\n",
       "      <td>1.498349</td>\n",
       "      <td>0.431200</td>\n",
       "    </tr>\n",
       "    <tr>\n",
       "      <th>경북</th>\n",
       "      <td>1.417523</td>\n",
       "      <td>1.539632</td>\n",
       "    </tr>\n",
       "    <tr>\n",
       "      <th>광주</th>\n",
       "      <td>-0.963503</td>\n",
       "      <td>-0.960380</td>\n",
       "    </tr>\n",
       "    <tr>\n",
       "      <th>대구</th>\n",
       "      <td>0.065323</td>\n",
       "      <td>-0.689116</td>\n",
       "    </tr>\n",
       "    <tr>\n",
       "      <th>대전</th>\n",
       "      <td>-0.613482</td>\n",
       "      <td>-0.988171</td>\n",
       "    </tr>\n",
       "    <tr>\n",
       "      <th>부산</th>\n",
       "      <td>1.011798</td>\n",
       "      <td>-0.537491</td>\n",
       "    </tr>\n",
       "    <tr>\n",
       "      <th>세종</th>\n",
       "      <td>-2.097244</td>\n",
       "      <td>-1.089755</td>\n",
       "    </tr>\n",
       "    <tr>\n",
       "      <th>울산</th>\n",
       "      <td>-0.750871</td>\n",
       "      <td>1.150686</td>\n",
       "    </tr>\n",
       "    <tr>\n",
       "      <th>인천</th>\n",
       "      <td>0.820080</td>\n",
       "      <td>-0.091316</td>\n",
       "    </tr>\n",
       "    <tr>\n",
       "      <th>전남</th>\n",
       "      <td>0.164025</td>\n",
       "      <td>0.743660</td>\n",
       "    </tr>\n",
       "    <tr>\n",
       "      <th>전북</th>\n",
       "      <td>-0.185723</td>\n",
       "      <td>-0.036357</td>\n",
       "    </tr>\n",
       "    <tr>\n",
       "      <th>제주</th>\n",
       "      <td>-1.351751</td>\n",
       "      <td>-1.205671</td>\n",
       "    </tr>\n",
       "    <tr>\n",
       "      <th>충남</th>\n",
       "      <td>0.824572</td>\n",
       "      <td>2.177606</td>\n",
       "    </tr>\n",
       "    <tr>\n",
       "      <th>충북</th>\n",
       "      <td>-0.233088</td>\n",
       "      <td>0.231756</td>\n",
       "    </tr>\n",
       "  </tbody>\n",
       "</table>\n",
       "</div>"
      ],
      "text/plain": [
       "        서비스업       제조업\n",
       "구분                    \n",
       "강원  0.393992 -0.676282\n",
       "경남  1.498349  0.431200\n",
       "경북  1.417523  1.539632\n",
       "광주 -0.963503 -0.960380\n",
       "대구  0.065323 -0.689116\n",
       "대전 -0.613482 -0.988171\n",
       "부산  1.011798 -0.537491\n",
       "세종 -2.097244 -1.089755\n",
       "울산 -0.750871  1.150686\n",
       "인천  0.820080 -0.091316\n",
       "전남  0.164025  0.743660\n",
       "전북 -0.185723 -0.036357\n",
       "제주 -1.351751 -1.205671\n",
       "충남  0.824572  2.177606\n",
       "충북 -0.233088  0.231756"
      ]
     },
     "execution_count": 107,
     "metadata": {},
     "output_type": "execute_result"
    }
   ],
   "source": [
    "# scaling\n",
    "from sklearn.preprocessing import StandardScaler\n",
    "\n",
    "scaler = StandardScaler()\n",
    "power3[['서비스업', '제조업']] = scaler.fit_transform(power3[['서비스업', '제조업']])\n",
    "power3"
   ]
  },
  {
   "cell_type": "code",
   "execution_count": 109,
   "metadata": {},
   "outputs": [
    {
     "data": {
      "image/png": "[encoded data removed]",
      "text/plain": [
       "<Figure size 720x360 with 1 Axes>"
      ]
     },
     "metadata": {
      "needs_background": "light"
     },
     "output_type": "display_data"
    }
   ],
   "source": [
    "power3 = pd.DataFrame(power2_sc, columns=['서비스업', '제조업'])\n",
    "\n",
    "plt.figure(figsize = (10,5))\n",
    "link_dist = linkage(power2, metric='euclidean', method='ward')\n",
    "dendrogram(link_dist, labels=power2.index)\n",
    "plt.show()"
   ]
  },
  {
   "cell_type": "code",
   "execution_count": 110,
   "metadata": {},
   "outputs": [
    {
     "data": {
      "image/png": "[encoded data removed]",
      "text/plain": [
       "<Figure size 720x576 with 1 Axes>"
      ]
     },
     "metadata": {
      "needs_background": "light"
     },
     "output_type": "display_data"
    }
   ],
   "source": [
    "k = KMeans(n_clusters=3).fit(power3)\n",
    "\n",
    "my_markers = ['*','^','o']\n",
    "my_colors = ['r','c','g']\n",
    "\n",
    "plt.figure(figsize=(10,8))\n",
    "plt.xlabel('서비스업')\n",
    "plt.ylabel('제조업')\n",
    "\n",
    "for n in range(power3.shape[0]):\n",
    "    label = k.labels_[n]\n",
    "    plt.scatter(power3['서비스업'][n], power3['제조업'][n], \n",
    "                c=my_colors[label], marker=my_markers[label], s=100)\n",
    "    plt.text(power3['서비스업'][n]*1.03, power3['제조업'][n]*0.98,\n",
    "             power3.index[n])\n",
    "\n",
    "centers = k.cluster_centers_\n",
    "for i in range(k.n_clusters):\n",
    "    plt.scatter(centers[i][0], centers[i][1], c='b', s=50, marker='*')"
   ]
  },
  {
   "cell_type": "code",
   "execution_count": 115,
   "metadata": {
    "collapsed": true
   },
   "outputs": [
    {
     "data": {
      "text/html": [
       "<div>\n",
       "<style scoped>\n",
       "    .dataframe tbody tr th:only-of-type {\n",
       "        vertical-align: middle;\n",
       "    }\n",
       "\n",
       "    .dataframe tbody tr th {\n",
       "        vertical-align: top;\n",
       "    }\n",
       "\n",
       "    .dataframe thead th {\n",
       "        text-align: right;\n",
       "    }\n",
       "</style>\n",
       "<table border=\"1\" class=\"dataframe\">\n",
       "  <thead>\n",
       "    <tr style=\"text-align: right;\">\n",
       "      <th></th>\n",
       "      <th>주거용</th>\n",
       "      <th>공공용</th>\n",
       "      <th>서비스업</th>\n",
       "      <th>농림어업</th>\n",
       "      <th>광업</th>\n",
       "      <th>제조업</th>\n",
       "      <th>식료품제조</th>\n",
       "      <th>섬유,의류</th>\n",
       "      <th>목재,나무</th>\n",
       "      <th>펄프,종이</th>\n",
       "      <th>...</th>\n",
       "      <th>1차금속</th>\n",
       "      <th>조립금속</th>\n",
       "      <th>기타기계</th>\n",
       "      <th>사무기기</th>\n",
       "      <th>전기기기</th>\n",
       "      <th>영상,음향</th>\n",
       "      <th>자동차</th>\n",
       "      <th>기타운송</th>\n",
       "      <th>가구및기타</th>\n",
       "      <th>재생재료</th>\n",
       "    </tr>\n",
       "    <tr>\n",
       "      <th>구분</th>\n",
       "      <th></th>\n",
       "      <th></th>\n",
       "      <th></th>\n",
       "      <th></th>\n",
       "      <th></th>\n",
       "      <th></th>\n",
       "      <th></th>\n",
       "      <th></th>\n",
       "      <th></th>\n",
       "      <th></th>\n",
       "      <th></th>\n",
       "      <th></th>\n",
       "      <th></th>\n",
       "      <th></th>\n",
       "      <th></th>\n",
       "      <th></th>\n",
       "      <th></th>\n",
       "      <th></th>\n",
       "      <th></th>\n",
       "      <th></th>\n",
       "      <th></th>\n",
       "    </tr>\n",
       "  </thead>\n",
       "  <tbody>\n",
       "    <tr>\n",
       "      <th>강원</th>\n",
       "      <td>1940933</td>\n",
       "      <td>1400421</td>\n",
       "      <td>6203749</td>\n",
       "      <td>607139</td>\n",
       "      <td>398287</td>\n",
       "      <td>6002286</td>\n",
       "      <td>546621</td>\n",
       "      <td>13027</td>\n",
       "      <td>19147</td>\n",
       "      <td>24382</td>\n",
       "      <td>...</td>\n",
       "      <td>1038913</td>\n",
       "      <td>39477</td>\n",
       "      <td>35063</td>\n",
       "      <td>2019</td>\n",
       "      <td>38062</td>\n",
       "      <td>43986</td>\n",
       "      <td>113448</td>\n",
       "      <td>108629</td>\n",
       "      <td>12872</td>\n",
       "      <td>3418</td>\n",
       "    </tr>\n",
       "    <tr>\n",
       "      <th>경남</th>\n",
       "      <td>4260988</td>\n",
       "      <td>1427560</td>\n",
       "      <td>8667737</td>\n",
       "      <td>2141813</td>\n",
       "      <td>95989</td>\n",
       "      <td>18053778</td>\n",
       "      <td>932743</td>\n",
       "      <td>346974</td>\n",
       "      <td>60160</td>\n",
       "      <td>817685</td>\n",
       "      <td>...</td>\n",
       "      <td>3809547</td>\n",
       "      <td>1699879</td>\n",
       "      <td>1902913</td>\n",
       "      <td>8070</td>\n",
       "      <td>924235</td>\n",
       "      <td>534196</td>\n",
       "      <td>2156059</td>\n",
       "      <td>2048646</td>\n",
       "      <td>262523</td>\n",
       "      <td>47662</td>\n",
       "    </tr>\n",
       "    <tr>\n",
       "      <th>경북</th>\n",
       "      <td>3302463</td>\n",
       "      <td>1578115</td>\n",
       "      <td>8487402</td>\n",
       "      <td>1747462</td>\n",
       "      <td>224568</td>\n",
       "      <td>30115601</td>\n",
       "      <td>566071</td>\n",
       "      <td>3780171</td>\n",
       "      <td>72680</td>\n",
       "      <td>361772</td>\n",
       "      <td>...</td>\n",
       "      <td>10874970</td>\n",
       "      <td>933178</td>\n",
       "      <td>782570</td>\n",
       "      <td>14468</td>\n",
       "      <td>750786</td>\n",
       "      <td>4174971</td>\n",
       "      <td>2356890</td>\n",
       "      <td>123935</td>\n",
       "      <td>60280</td>\n",
       "      <td>77104</td>\n",
       "    </tr>\n",
       "    <tr>\n",
       "      <th>광주</th>\n",
       "      <td>1954876</td>\n",
       "      <td>565527</td>\n",
       "      <td>3174973</td>\n",
       "      <td>74608</td>\n",
       "      <td>2898</td>\n",
       "      <td>2910768</td>\n",
       "      <td>161072</td>\n",
       "      <td>295922</td>\n",
       "      <td>6782</td>\n",
       "      <td>41827</td>\n",
       "      <td>...</td>\n",
       "      <td>75702</td>\n",
       "      <td>156396</td>\n",
       "      <td>198847</td>\n",
       "      <td>5967</td>\n",
       "      <td>236622</td>\n",
       "      <td>723764</td>\n",
       "      <td>512148</td>\n",
       "      <td>5140</td>\n",
       "      <td>13392</td>\n",
       "      <td>16049</td>\n",
       "    </tr>\n",
       "    <tr>\n",
       "      <th>대구</th>\n",
       "      <td>3151904</td>\n",
       "      <td>826396</td>\n",
       "      <td>5470438</td>\n",
       "      <td>69142</td>\n",
       "      <td>5858</td>\n",
       "      <td>5862633</td>\n",
       "      <td>212626</td>\n",
       "      <td>1057342</td>\n",
       "      <td>16215</td>\n",
       "      <td>445646</td>\n",
       "      <td>...</td>\n",
       "      <td>317580</td>\n",
       "      <td>661307</td>\n",
       "      <td>516493</td>\n",
       "      <td>58446</td>\n",
       "      <td>180189</td>\n",
       "      <td>252662</td>\n",
       "      <td>1381273</td>\n",
       "      <td>68127</td>\n",
       "      <td>41814</td>\n",
       "      <td>33616</td>\n",
       "    </tr>\n",
       "    <tr>\n",
       "      <th>대전</th>\n",
       "      <td>1872890</td>\n",
       "      <td>954681</td>\n",
       "      <td>3955921</td>\n",
       "      <td>28643</td>\n",
       "      <td>3326</td>\n",
       "      <td>2608343</td>\n",
       "      <td>204171</td>\n",
       "      <td>41687</td>\n",
       "      <td>4311</td>\n",
       "      <td>539332</td>\n",
       "      <td>...</td>\n",
       "      <td>56535</td>\n",
       "      <td>69342</td>\n",
       "      <td>77970</td>\n",
       "      <td>2949</td>\n",
       "      <td>83609</td>\n",
       "      <td>474561</td>\n",
       "      <td>218191</td>\n",
       "      <td>5439</td>\n",
       "      <td>31657</td>\n",
       "      <td>2252</td>\n",
       "    </tr>\n",
       "    <tr>\n",
       "      <th>부산</th>\n",
       "      <td>4473510</td>\n",
       "      <td>1305876</td>\n",
       "      <td>7582169</td>\n",
       "      <td>107927</td>\n",
       "      <td>25289</td>\n",
       "      <td>7512588</td>\n",
       "      <td>532943</td>\n",
       "      <td>528513</td>\n",
       "      <td>51980</td>\n",
       "      <td>27240</td>\n",
       "      <td>...</td>\n",
       "      <td>2426694</td>\n",
       "      <td>872952</td>\n",
       "      <td>904149</td>\n",
       "      <td>4913</td>\n",
       "      <td>107717</td>\n",
       "      <td>90644</td>\n",
       "      <td>1046529</td>\n",
       "      <td>231141</td>\n",
       "      <td>49733</td>\n",
       "      <td>13104</td>\n",
       "    </tr>\n",
       "    <tr>\n",
       "      <th>세종</th>\n",
       "      <td>384903</td>\n",
       "      <td>299675</td>\n",
       "      <td>645424</td>\n",
       "      <td>69469</td>\n",
       "      <td>16364</td>\n",
       "      <td>1502922</td>\n",
       "      <td>110211</td>\n",
       "      <td>70617</td>\n",
       "      <td>1324</td>\n",
       "      <td>350896</td>\n",
       "      <td>...</td>\n",
       "      <td>32345</td>\n",
       "      <td>11390</td>\n",
       "      <td>26185</td>\n",
       "      <td>14319</td>\n",
       "      <td>33539</td>\n",
       "      <td>170366</td>\n",
       "      <td>79009</td>\n",
       "      <td>0</td>\n",
       "      <td>5132</td>\n",
       "      <td>2603</td>\n",
       "    </tr>\n",
       "    <tr>\n",
       "      <th>울산</th>\n",
       "      <td>1487143</td>\n",
       "      <td>489865</td>\n",
       "      <td>3649386</td>\n",
       "      <td>80221</td>\n",
       "      <td>20103</td>\n",
       "      <td>25883132</td>\n",
       "      <td>187738</td>\n",
       "      <td>943299</td>\n",
       "      <td>12286</td>\n",
       "      <td>620457</td>\n",
       "      <td>...</td>\n",
       "      <td>4671005</td>\n",
       "      <td>393469</td>\n",
       "      <td>169132</td>\n",
       "      <td>5053</td>\n",
       "      <td>381602</td>\n",
       "      <td>24165</td>\n",
       "      <td>2367150</td>\n",
       "      <td>1020610</td>\n",
       "      <td>4984</td>\n",
       "      <td>1626</td>\n",
       "    </tr>\n",
       "    <tr>\n",
       "      <th>인천</th>\n",
       "      <td>3856852</td>\n",
       "      <td>921748</td>\n",
       "      <td>7154416</td>\n",
       "      <td>142953</td>\n",
       "      <td>71529</td>\n",
       "      <td>12367816</td>\n",
       "      <td>641088</td>\n",
       "      <td>75895</td>\n",
       "      <td>639429</td>\n",
       "      <td>57159</td>\n",
       "      <td>...</td>\n",
       "      <td>2346232</td>\n",
       "      <td>750654</td>\n",
       "      <td>942801</td>\n",
       "      <td>7853</td>\n",
       "      <td>178502</td>\n",
       "      <td>1124564</td>\n",
       "      <td>612898</td>\n",
       "      <td>54225</td>\n",
       "      <td>360778</td>\n",
       "      <td>32538</td>\n",
       "    </tr>\n",
       "    <tr>\n",
       "      <th>전남</th>\n",
       "      <td>2284124</td>\n",
       "      <td>964024</td>\n",
       "      <td>5690659</td>\n",
       "      <td>3096126</td>\n",
       "      <td>73217</td>\n",
       "      <td>21453926</td>\n",
       "      <td>511361</td>\n",
       "      <td>160506</td>\n",
       "      <td>27998</td>\n",
       "      <td>145685</td>\n",
       "      <td>...</td>\n",
       "      <td>5036891</td>\n",
       "      <td>123651</td>\n",
       "      <td>66431</td>\n",
       "      <td>1061</td>\n",
       "      <td>149939</td>\n",
       "      <td>42399</td>\n",
       "      <td>72132</td>\n",
       "      <td>481592</td>\n",
       "      <td>14670</td>\n",
       "      <td>31932</td>\n",
       "    </tr>\n",
       "    <tr>\n",
       "      <th>전북</th>\n",
       "      <td>2326183</td>\n",
       "      <td>1096968</td>\n",
       "      <td>4910318</td>\n",
       "      <td>1415004</td>\n",
       "      <td>85300</td>\n",
       "      <td>12965875</td>\n",
       "      <td>1459217</td>\n",
       "      <td>731651</td>\n",
       "      <td>291729</td>\n",
       "      <td>1282937</td>\n",
       "      <td>...</td>\n",
       "      <td>2158438</td>\n",
       "      <td>137635</td>\n",
       "      <td>159699</td>\n",
       "      <td>7240</td>\n",
       "      <td>130692</td>\n",
       "      <td>420005</td>\n",
       "      <td>859741</td>\n",
       "      <td>70980</td>\n",
       "      <td>16175</td>\n",
       "      <td>99003</td>\n",
       "    </tr>\n",
       "    <tr>\n",
       "      <th>제주</th>\n",
       "      <td>782601</td>\n",
       "      <td>301727</td>\n",
       "      <td>2308732</td>\n",
       "      <td>1364930</td>\n",
       "      <td>14019</td>\n",
       "      <td>241537</td>\n",
       "      <td>155987</td>\n",
       "      <td>3497</td>\n",
       "      <td>1524</td>\n",
       "      <td>20864</td>\n",
       "      <td>...</td>\n",
       "      <td>993</td>\n",
       "      <td>3331</td>\n",
       "      <td>1167</td>\n",
       "      <td>0</td>\n",
       "      <td>771</td>\n",
       "      <td>0</td>\n",
       "      <td>773</td>\n",
       "      <td>532</td>\n",
       "      <td>1743</td>\n",
       "      <td>743</td>\n",
       "    </tr>\n",
       "    <tr>\n",
       "      <th>충남</th>\n",
       "      <td>2691823</td>\n",
       "      <td>1089613</td>\n",
       "      <td>7164439</td>\n",
       "      <td>1928066</td>\n",
       "      <td>248313</td>\n",
       "      <td>37057955</td>\n",
       "      <td>1137035</td>\n",
       "      <td>269998</td>\n",
       "      <td>134109</td>\n",
       "      <td>809760</td>\n",
       "      <td>...</td>\n",
       "      <td>9976454</td>\n",
       "      <td>565003</td>\n",
       "      <td>611925</td>\n",
       "      <td>12208</td>\n",
       "      <td>428906</td>\n",
       "      <td>10953811</td>\n",
       "      <td>2526658</td>\n",
       "      <td>33766</td>\n",
       "      <td>53804</td>\n",
       "      <td>19725</td>\n",
       "    </tr>\n",
       "    <tr>\n",
       "      <th>충북</th>\n",
       "      <td>2027281</td>\n",
       "      <td>1267140</td>\n",
       "      <td>4804638</td>\n",
       "      <td>721131</td>\n",
       "      <td>139856</td>\n",
       "      <td>15883448</td>\n",
       "      <td>1152073</td>\n",
       "      <td>333846</td>\n",
       "      <td>51682</td>\n",
       "      <td>880020</td>\n",
       "      <td>...</td>\n",
       "      <td>469546</td>\n",
       "      <td>738699</td>\n",
       "      <td>366871</td>\n",
       "      <td>23076</td>\n",
       "      <td>1125141</td>\n",
       "      <td>4103832</td>\n",
       "      <td>603349</td>\n",
       "      <td>82496</td>\n",
       "      <td>513501</td>\n",
       "      <td>46038</td>\n",
       "    </tr>\n",
       "  </tbody>\n",
       "</table>\n",
       "<p>15 rows × 24 columns</p>\n",
       "</div>"
      ],
      "text/plain": [
       "        주거용      공공용     서비스업     농림어업      광업       제조업    식료품제조    섬유,의류  \\\n",
       "구분                                                                           \n",
       "강원  1940933  1400421  6203749   607139  398287   6002286   546621    13027   \n",
       "경남  4260988  1427560  8667737  2141813   95989  18053778   932743   346974   \n",
       "경북  3302463  1578115  8487402  1747462  224568  30115601   566071  3780171   \n",
       "광주  1954876   565527  3174973    74608    2898   2910768   161072   295922   \n",
       "대구  3151904   826396  5470438    69142    5858   5862633   212626  1057342   \n",
       "대전  1872890   954681  3955921    28643    3326   2608343   204171    41687   \n",
       "부산  4473510  1305876  7582169   107927   25289   7512588   532943   528513   \n",
       "세종   384903   299675   645424    69469   16364   1502922   110211    70617   \n",
       "울산  1487143   489865  3649386    80221   20103  25883132   187738   943299   \n",
       "인천  3856852   921748  7154416   142953   71529  12367816   641088    75895   \n",
       "전남  2284124   964024  5690659  3096126   73217  21453926   511361   160506   \n",
       "전북  2326183  1096968  4910318  1415004   85300  12965875  1459217   731651   \n",
       "제주   782601   301727  2308732  1364930   14019    241537   155987     3497   \n",
       "충남  2691823  1089613  7164439  1928066  248313  37057955  1137035   269998   \n",
       "충북  2027281  1267140  4804638   721131  139856  15883448  1152073   333846   \n",
       "\n",
       "     목재,나무    펄프,종이  ...      1차금속     조립금속     기타기계   사무기기     전기기기  \\\n",
       "구분                   ...                                               \n",
       "강원   19147    24382  ...   1038913    39477    35063   2019    38062   \n",
       "경남   60160   817685  ...   3809547  1699879  1902913   8070   924235   \n",
       "경북   72680   361772  ...  10874970   933178   782570  14468   750786   \n",
       "광주    6782    41827  ...     75702   156396   198847   5967   236622   \n",
       "대구   16215   445646  ...    317580   661307   516493  58446   180189   \n",
       "대전    4311   539332  ...     56535    69342    77970   2949    83609   \n",
       "부산   51980    27240  ...   2426694   872952   904149   4913   107717   \n",
       "세종    1324   350896  ...     32345    11390    26185  14319    33539   \n",
       "울산   12286   620457  ...   4671005   393469   169132   5053   381602   \n",
       "인천  639429    57159  ...   2346232   750654   942801   7853   178502   \n",
       "전남   27998   145685  ...   5036891   123651    66431   1061   149939   \n",
       "전북  291729  1282937  ...   2158438   137635   159699   7240   130692   \n",
       "제주    1524    20864  ...       993     3331     1167      0      771   \n",
       "충남  134109   809760  ...   9976454   565003   611925  12208   428906   \n",
       "충북   51682   880020  ...    469546   738699   366871  23076  1125141   \n",
       "\n",
       "       영상,음향      자동차     기타운송   가구및기타   재생재료  \n",
       "구분                                             \n",
       "강원     43986   113448   108629   12872   3418  \n",
       "경남    534196  2156059  2048646  262523  47662  \n",
       "경북   4174971  2356890   123935   60280  77104  \n",
       "광주    723764   512148     5140   13392  16049  \n",
       "대구    252662  1381273    68127   41814  33616  \n",
       "대전    474561   218191     5439   31657   2252  \n",
       "부산     90644  1046529   231141   49733  13104  \n",
       "세종    170366    79009        0    5132   2603  \n",
       "울산     24165  2367150  1020610    4984   1626  \n",
       "인천   1124564   612898    54225  360778  32538  \n",
       "전남     42399    72132   481592   14670  31932  \n",
       "전북    420005   859741    70980   16175  99003  \n",
       "제주         0      773      532    1743    743  \n",
       "충남  10953811  2526658    33766   53804  19725  \n",
       "충북   4103832   603349    82496  513501  46038  \n",
       "\n",
       "[15 rows x 24 columns]"
      ]
     },
     "execution_count": 115,
     "metadata": {},
     "output_type": "execute_result"
    }
   ],
   "source": [
    "power4 = power_data.set_index('구분')\n",
    "power4.drop(['합계', '개성', '서울', '경기'], inplace=True)\n",
    "power4.drop(['업무용합계','산업용합계','합계'], axis=1, inplace=True)\n",
    "power4"
   ]
  },
  {
   "cell_type": "code",
   "execution_count": 116,
   "metadata": {},
   "outputs": [
    {
     "name": "stderr",
     "output_type": "stream",
     "text": [
      "/Users/Dodanto/anaconda3/lib/python3.7/site-packages/sklearn/preprocessing/data.py:645: DataConversionWarning: Data with input dtype int64 were all converted to float64 by StandardScaler.\n",
      "  return self.partial_fit(X, y)\n",
      "/Users/Dodanto/anaconda3/lib/python3.7/site-packages/sklearn/base.py:464: DataConversionWarning: Data with input dtype int64 were all converted to float64 by StandardScaler.\n",
      "  return self.fit(X, **fit_params).transform(X)\n"
     ]
    },
    {
     "data": {
      "text/plain": [
       "array([[-4.47460582e-01,  1.10736258e+00,  3.93991873e-01,\n",
       "        -3.16151054e-01,  2.74249597e+00, -6.76282009e-01,\n",
       "        -5.03830175e-02, -6.16387986e-01, -4.51439798e-01,\n",
       "        -1.06745713e+00, -8.34440395e-01, -7.15647803e-01,\n",
       "        -3.88092459e-01,  2.94806033e+00, -5.45482466e-01,\n",
       "        -9.48358638e-01, -8.28940537e-01, -6.56696681e-01,\n",
       "        -8.30061658e-01, -5.27178394e-01, -9.76345924e-01,\n",
       "        -3.36181425e-01, -5.56318407e-01, -8.86116555e-01],\n",
       "       [ 1.57896143e+00,  1.17653431e+00,  1.49834892e+00,\n",
       "         1.30563225e+00,  8.99358076e-03,  4.31200291e-01,\n",
       "         8.85979451e-01, -2.51315662e-01, -1.99913054e-01,\n",
       "         1.02864794e+00,  1.91477693e-01, -3.57560844e-01,\n",
       "        -2.20823496e-01, -2.91510189e-01,  2.72687784e-01,\n",
       "         2.64991989e+00,  2.89524796e+00, -2.22753932e-01,\n",
       "         1.80996346e+00, -3.54694708e-01,  1.28912118e+00,\n",
       "         3.27934154e+00,  1.11033629e+00,  6.77331689e-01],\n",
       "       [ 7.41750176e-01,  1.56026803e+00,  1.41752295e+00,\n",
       "         8.88897577e-01,  1.17165759e+00,  1.53963197e+00,\n",
       "        -3.21593041e-03,  3.50187034e+00, -1.23129720e-01,\n",
       "        -1.75988313e-01,  9.78052783e-01,  2.12500182e-02,\n",
       "        -1.51013887e-01,  5.41726035e-01,  2.35911237e+00,\n",
       "         9.88392292e-01,  6.61466601e-01,  2.36073653e-01,\n",
       "         1.29323623e+00,  9.26336463e-01,  1.51186356e+00,\n",
       "        -3.07656317e-01, -2.39825520e-01,  1.71772232e+00],\n",
       "       [-4.35282249e-01, -1.02061046e+00, -9.63502611e-01,\n",
       "        -8.78908933e-01, -8.32773387e-01, -9.60379735e-01,\n",
       "        -9.85355937e-01, -3.07125932e-01, -5.27272539e-01,\n",
       "        -1.02136308e+00, -1.27185047e-01, -6.69923955e-01,\n",
       "        -4.89725495e-01, -6.97408778e-01, -8.29919380e-01,\n",
       "        -6.94981970e-01, -5.02381933e-01, -3.73568938e-01,\n",
       "        -2.38525483e-01, -2.87993933e-01, -5.34146339e-01,\n",
       "        -5.29049248e-01, -5.52846919e-01, -4.39775475e-01],\n",
       "       [ 6.10246366e-01, -3.55709049e-01,  6.53225892e-02,\n",
       "        -8.84685188e-01, -8.06007854e-01, -6.89115543e-01,\n",
       "        -8.60335268e-01,  5.25261748e-01, -4.69421326e-01,\n",
       "         4.56277870e-02,  1.09676058e+00, -6.64133160e-01,\n",
       "        -3.85472355e-01, -6.50381352e-01, -7.58492630e-01,\n",
       "         3.99217152e-01,  1.30952425e-01,  3.38992165e+00,\n",
       "        -4.06646761e-01, -4.53754340e-01,  4.29803282e-01,\n",
       "        -4.11663192e-01, -3.63103398e-01,  1.80988817e-01],\n",
       "       [-5.06891860e-01, -2.87369758e-02, -6.13482470e-01,\n",
       "        -9.27482943e-01, -8.28903236e-01, -9.88171342e-01,\n",
       "        -8.80839007e-01, -5.85056748e-01, -5.42426821e-01,\n",
       "         2.93169646e-01, -4.84791063e-01, -6.19158636e-01,\n",
       "        -3.65195875e-01, -6.64919393e-01, -8.35579410e-01,\n",
       "        -8.83637813e-01, -7.43390972e-01, -5.90002456e-01,\n",
       "        -6.94371196e-01, -3.75677684e-01, -8.60175091e-01,\n",
       "        -5.28492016e-01, -4.30910904e-01, -9.27319445e-01],\n",
       "       [ 1.76458602e+00,  8.66386829e-01,  1.01179839e+00,\n",
       "        -8.43698721e-01, -6.30304790e-01, -5.37491498e-01,\n",
       "        -8.35527562e-02, -5.28564318e-02, -2.50079800e-01,\n",
       "        -1.05990558e+00,  4.14561380e-01, -6.59822371e-01,\n",
       "        -4.05270675e-01, -6.40824892e-01, -1.35669720e-01,\n",
       "         8.57875753e-01,  9.03875313e-01, -4.49155726e-01,\n",
       "        -6.22550315e-01, -5.10761463e-01,  5.85375240e-02,\n",
       "        -1.07861287e-01, -3.10236642e-01, -5.43842807e-01],\n",
       "       [-1.80655485e+00, -1.69821252e+00, -2.09724403e+00,\n",
       "        -8.84339627e-01, -7.11008297e-01, -1.08975496e+00,\n",
       "        -1.10869605e+00, -5.53430345e-01, -5.60745657e-01,\n",
       "        -2.04725427e-01, -1.06814947e+00, -6.97373348e-01,\n",
       "        -4.94460880e-01, -4.14583586e-01, -8.42722734e-01,\n",
       "        -1.00922634e+00, -8.46641822e-01,  2.25388234e-01,\n",
       "        -8.43536266e-01, -4.82710741e-01, -1.01454234e+00,\n",
       "        -5.38628437e-01, -6.07990170e-01, -9.14916174e-01],\n",
       "       [-8.43817585e-01, -1.21345733e+00, -7.50871162e-01,\n",
       "        -8.72977335e-01, -6.77198727e-01,  1.15068556e+00,\n",
       "        -9.20689739e-01,  4.00589441e-01, -4.93517310e-01,\n",
       "         5.07522200e-01, -1.05198900e+00,  2.39762305e+00,\n",
       "        -4.98103074e-01, -5.35469731e-01,  5.27076962e-01,\n",
       "        -1.81218023e-01, -5.61628800e-01, -4.39115736e-01,\n",
       "         1.93388874e-01, -5.34152546e-01,  1.52324296e+00,\n",
       "         1.36343680e+00, -6.08978209e-01, -9.49440379e-01],\n",
       "       [ 1.22597407e+00, -1.12676418e-01,  8.20079906e-01,\n",
       "        -8.06684617e-01, -2.12183762e-01, -9.13161139e-02,\n",
       "         1.78703523e-01, -5.47660413e-01,  3.35265920e+00,\n",
       "        -9.80852096e-01,  2.29846704e+00, -3.20665764e-01,\n",
       "         3.46192889e+00, -5.37407012e-01, -1.59430208e-01,\n",
       "         5.92842184e-01,  9.80941102e-01, -2.38315917e-01,\n",
       "        -4.11672554e-01, -1.46969757e-01, -4.22404157e-01,\n",
       "        -4.37571728e-01,  1.76628061e+00,  1.42895579e-01],\n",
       "       [-1.47704845e-01, -4.92359086e-03,  1.64025429e-01,\n",
       "         2.31411281e+00, -1.96920175e-01,  7.43659838e-01,\n",
       "        -1.35890035e-01, -4.55163297e-01, -3.97157907e-01,\n",
       "        -7.46944248e-01, -8.84503260e-01,  2.20158174e+00,\n",
       "        -4.50336828e-01, -1.36480084e-01,  6.35123366e-01,\n",
       "        -7.65944080e-01, -7.66397857e-01, -7.25398905e-01,\n",
       "        -4.96765462e-01, -5.27736791e-01, -1.02216965e+00,\n",
       "         3.58893047e-01, -5.44315070e-01,  1.21481384e-01],\n",
       "       [-1.10968955e-01,  3.33923315e-01, -1.85722655e-01,\n",
       "         5.37568999e-01, -8.76607373e-02, -3.63569639e-02,\n",
       "         2.16270156e+00,  1.69214920e-01,  1.22026583e+00,\n",
       "         2.25796016e+00, -6.96804580e-01,  1.90405251e-01,\n",
       "        -4.24192664e-01, -1.08898875e-01, -2.14885914e-01,\n",
       "        -7.35639174e-01, -5.80436665e-01, -2.82276735e-01,\n",
       "        -5.54104789e-01, -3.94873580e-01, -1.48629710e-01,\n",
       "        -4.06346183e-01, -5.34267782e-01,  2.49156630e+00],\n",
       "       [-1.45919068e+00, -1.69298239e+00, -1.35175099e+00,\n",
       "         4.84652760e-01, -7.32212748e-01, -1.20567103e+00,\n",
       "        -9.97687280e-01, -6.26806223e-01, -5.59519086e-01,\n",
       "        -1.07675257e+00, -1.09592373e+00, -7.48635038e-01,\n",
       "        -5.29156823e-01, -6.95630209e-01, -8.51981003e-01,\n",
       "        -1.02669110e+00, -8.96523637e-01, -8.01487693e-01,\n",
       "        -9.41156418e-01, -5.42655164e-01, -1.10131417e+00,\n",
       "        -5.37636972e-01, -6.30614925e-01, -9.80642910e-01],\n",
       "       [ 2.08394570e-01,  3.15176933e-01,  8.24572205e-01,\n",
       "         1.07975280e+00,  1.38636961e+00,  2.17760560e+00,\n",
       "         1.38139634e+00, -3.35466162e-01,  2.53605373e-01,\n",
       "         1.00770810e+00,  1.29765451e+00,  8.96968239e-01,\n",
       "         8.33965866e-01,  1.89424566e-01,  2.09377994e+00,\n",
       "         1.90515515e-01,  3.21228280e-01,  7.39995139e-02,\n",
       "         3.34313668e-01,  3.31151691e+00,  1.70015385e+00,\n",
       "        -4.75700252e-01, -2.83058897e-01, -3.09876827e-01],\n",
       "       [-3.72041039e-01,  7.67656734e-01, -2.33088329e-01,\n",
       "        -1.95688779e-01,  4.05656970e-01,  2.31755935e-01,\n",
       "         1.41786414e+00, -2.65667249e-01, -2.51907390e-01,\n",
       "         1.19335261e+00, -3.31874461e-02, -2.54907384e-01,\n",
       "         5.05949760e-01,  1.69430317e+00, -7.13616959e-01,\n",
       "         5.66934350e-01, -1.67369459e-01,  8.53389665e-01,\n",
       "         2.40848867e+00,  9.01305727e-01, -4.32994986e-01,\n",
       "        -3.84884329e-01,  2.78584995e+00,  6.19944474e-01]])"
      ]
     },
     "execution_count": 116,
     "metadata": {},
     "output_type": "execute_result"
    }
   ],
   "source": [
    "scaler = StandardScaler()\n",
    "power5 = scaler.fit_transform(power4)   # 결과는 array\n",
    "power5"
   ]
  },
  {
   "cell_type": "code",
   "execution_count": 120,
   "metadata": {},
   "outputs": [
    {
     "data": {
      "image/png": "[encoded data removed]",
      "text/plain": [
       "<Figure size 720x360 with 1 Axes>"
      ]
     },
     "metadata": {
      "needs_background": "light"
     },
     "output_type": "display_data"
    }
   ],
   "source": [
    "Z = linkage(power5, metric='euclidean', method='ward')\n",
    "plt.figure(figsize=(10,5))\n",
    "plt.title(\"Dendrogram\")\n",
    "dendrogram(Z, labels=power4.index)\n",
    "plt.show()"
   ]
  },
  {
   "cell_type": "code",
   "execution_count": 133,
   "metadata": {},
   "outputs": [
    {
     "data": {
      "image/png": "[encoded data removed]",
      "text/plain": [
       "<Figure size 432x288 with 1 Axes>"
      ]
     },
     "metadata": {
      "needs_background": "light"
     },
     "output_type": "display_data"
    }
   ],
   "source": [
    "# DBSCAN (eps=, min_samples=, metric=)\n",
    "from sklearn.datasets import make_moons\n",
    "from sklearn.cluster import DBSCAN\n",
    "\n",
    "x, y = make_moons(n_samples=300, noise=0.04, random_state=11)\n",
    "plt.scatter(x[:,0], x[:,1], c='b')\n",
    "plt.show()"
   ]
  },
  {
   "cell_type": "code",
   "execution_count": 134,
   "metadata": {},
   "outputs": [
    {
     "data": {
      "text/plain": [
       "<matplotlib.collections.PathCollection at 0x81859e7b8>"
      ]
     },
     "execution_count": 134,
     "metadata": {},
     "output_type": "execute_result"
    },
    {
     "data": {
      "image/png": "[encoded data removed]",
      "text/plain": [
       "<Figure size 432x288 with 1 Axes>"
      ]
     },
     "metadata": {
      "needs_background": "light"
     },
     "output_type": "display_data"
    }
   ],
   "source": [
    "kmeans = KMeans(n_clusters=2)\n",
    "predict = kmeans.fit_predict(x)\n",
    "plt.scatter(x[:,0], x[:,1], c=predict)"
   ]
  },
  {
   "cell_type": "code",
   "execution_count": 145,
   "metadata": {},
   "outputs": [
    {
     "data": {
      "text/plain": [
       "<matplotlib.collections.PathCollection at 0x1a1c29db70>"
      ]
     },
     "execution_count": 145,
     "metadata": {},
     "output_type": "execute_result"
    },
    {
     "data": {
      "image/png": "[encoded data removed]",
      "text/plain": [
       "<Figure size 432x288 with 1 Axes>"
      ]
     },
     "metadata": {
      "needs_background": "light"
     },
     "output_type": "display_data"
    }
   ],
   "source": [
    "dbscan = DBSCAN(eps=0.2 , min_samples=5, metric='euclidean')\n",
    "predict = dbscan.fit_predict(x)\n",
    "plt.scatter(x[:,0], x[:,1], c=predict)"
   ]
  },
  {
   "cell_type": "code",
   "execution_count": 150,
   "metadata": {},
   "outputs": [
    {
     "data": {
      "text/plain": [
       "<matplotlib.collections.PathCollection at 0x1a1c3ddf60>"
      ]
     },
     "execution_count": 150,
     "metadata": {},
     "output_type": "execute_result"
    },
    {
     "data": {
      "image/png": "[encoded data removed]",
      "text/plain": [
       "<Figure size 432x288 with 1 Axes>"
      ]
     },
     "metadata": {
      "needs_background": "light"
     },
     "output_type": "display_data"
    }
   ],
   "source": [
    "# one more example\n",
    "from sklearn.datasets import make_blobs\n",
    "\n",
    "x, y = make_blobs(n_features=2, n_samples=1000, cluster_std=0.5)\n",
    "plt.scatter(x[:,0], x[:,1], s=10)"
   ]
  },
  {
   "cell_type": "code",
   "execution_count": 159,
   "metadata": {},
   "outputs": [
    {
     "data": {
      "text/plain": [
       "<matplotlib.collections.PathCollection at 0x81862e390>"
      ]
     },
     "execution_count": 159,
     "metadata": {},
     "output_type": "execute_result"
    },
    {
     "data": {
      "image/png": "[encoded data removed]",
      "text/plain": [
       "<Figure size 432x288 with 1 Axes>"
      ]
     },
     "metadata": {
      "needs_background": "light"
     },
     "output_type": "display_data"
    }
   ],
   "source": [
    "kmeans = KMeans(n_clusters=3)\n",
    "kmeans.fit(x)\n",
    "plt.scatter(x[:,0], x[:,1], c=kmeans.predict(x), s=10)"
   ]
  },
  {
   "cell_type": "code",
   "execution_count": 163,
   "metadata": {},
   "outputs": [
    {
     "data": {
      "text/plain": [
       "<matplotlib.collections.PathCollection at 0x1a1c715160>"
      ]
     },
     "execution_count": 163,
     "metadata": {},
     "output_type": "execute_result"
    },
    {
     "data": {
      "image/png": "[encoded data removed]",
      "text/plain": [
       "<Figure size 432x288 with 1 Axes>"
      ]
     },
     "metadata": {
      "needs_background": "light"
     },
     "output_type": "display_data"
    }
   ],
   "source": [
    "centers = [[1,1],[-.75,-1],[1,-1],[-3,2]]\n",
    "x, _ = make_blobs(n_samples=1000, cluster_std=0.5, centers=centers)\n",
    "plt.scatter(x[:,0], x[:,1], s=10)"
   ]
  },
  {
   "cell_type": "code",
   "execution_count": 164,
   "metadata": {},
   "outputs": [
    {
     "data": {
      "text/plain": [
       "<matplotlib.collections.PathCollection at 0x1a1c7b9dd8>"
      ]
     },
     "execution_count": 164,
     "metadata": {},
     "output_type": "execute_result"
    },
    {
     "data": {
      "image/png": "[encoded data removed]",
      "text/plain": [
       "<Figure size 432x288 with 1 Axes>"
      ]
     },
     "metadata": {
      "needs_background": "light"
     },
     "output_type": "display_data"
    }
   ],
   "source": [
    "kmeans = KMeans(n_clusters=3)\n",
    "kmeans.fit(x)\n",
    "plt.scatter(x[:,0], x[:,1], c=kmeans.predict(x))"
   ]
  },
  {
   "cell_type": "code",
   "execution_count": 165,
   "metadata": {},
   "outputs": [
    {
     "data": {
      "text/plain": [
       "<matplotlib.collections.PathCollection at 0x1a1c8ebbe0>"
      ]
     },
     "execution_count": 165,
     "metadata": {},
     "output_type": "execute_result"
    },
    {
     "data": {
      "image/png": "[encoded data removed]",
      "text/plain": [
       "<Figure size 432x288 with 1 Axes>"
      ]
     },
     "metadata": {
      "needs_background": "light"
     },
     "output_type": "display_data"
    }
   ],
   "source": [
    "from sklearn.cluster import MeanShift\n",
    "\n",
    "ms = MeanShift()\n",
    "ms.fit(x)\n",
    "plt.scatter(x[:,0], x[:,1], s=10, c=ms.predict(x))"
   ]
  },
  {
   "cell_type": "code",
   "execution_count": null,
   "metadata": {},
   "outputs": [],
   "source": []
  }
 ],
 "metadata": {
  "kernelspec": {
   "display_name": "Python 3",
   "language": "python",
   "name": "python3"
  },
  "language_info": {
   "codemirror_mode": {
    "name": "ipython",
    "version": 3
   },
   "file_extension": ".py",
   "mimetype": "text/x-python",
   "name": "python",
   "nbconvert_exporter": "python",
   "pygments_lexer": "ipython3",
   "version": "3.7.3"
  }
 },
 "nbformat": 4,
 "nbformat_minor": 2
}
