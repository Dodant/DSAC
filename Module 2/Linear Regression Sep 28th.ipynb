{
 "cells": [
  {
   "cell_type": "code",
   "execution_count": 1,
   "metadata": {},
   "outputs": [],
   "source": [
    "import matplotlib.pyplot as plt\n",
    "import pandas as pd\n",
    "import numpy as np\n",
    "%matplotlib inline"
   ]
  },
  {
   "cell_type": "markdown",
   "metadata": {},
   "source": [
    "# Linear Regression (선형 회귀)"
   ]
  },
  {
   "cell_type": "code",
   "execution_count": 37,
   "metadata": {},
   "outputs": [
    {
     "data": {
      "text/plain": [
       "[<matplotlib.lines.Line2D at 0x1a1a1e40f0>]"
      ]
     },
     "execution_count": 37,
     "metadata": {},
     "output_type": "execute_result"
    },
    {
     "data": {
      "image/png": "[encoded data removed]",
      "text/plain": [
       "<Figure size 360x360 with 1 Axes>"
      ]
     },
     "metadata": {
      "needs_background": "light"
     },
     "output_type": "display_data"
    }
   ],
   "source": [
    "n = 100\n",
    "x = np.random.randn(n)\n",
    "y = 2.5 * x + 0.7           # w = 2.5, b = 0.7\n",
    "y = y + np.random.randn(n)  # noise\n",
    "\n",
    "plt.figure(figsize=(5,5))\n",
    "plt.scatter(x,y)\n",
    "\n",
    "xx = np.linspace(-3,3,100)\n",
    "yy = w * xx + b\n",
    "plt.plot(xx,yy,c='r')"
   ]
  },
  {
   "cell_type": "code",
   "execution_count": 38,
   "metadata": {},
   "outputs": [
    {
     "name": "stdout",
     "output_type": "stream",
     "text": [
      "epoch =  0 error =  8.1 w =  0.55 b =  0.1\n",
      "epoch =  4 error =  3.59 w =  1.37 b =  0.35\n",
      "epoch =  8 error =  1.93 w =  1.86 b =  0.52\n",
      "epoch =  12 error =  1.33 w =  2.16 b =  0.63\n",
      "epoch =  16 error =  1.1 w =  2.33 b =  0.71\n",
      "epoch =  20 error =  1.02 w =  2.44 b =  0.75\n",
      "epoch =  24 error =  0.98 w =  2.5 b =  0.79\n",
      "epoch =  28 error =  0.97 w =  2.54 b =  0.81\n",
      "epoch =  32 error =  0.97 w =  2.56 b =  0.82\n",
      "epoch =  36 error =  0.97 w =  2.58 b =  0.83\n",
      "epoch =  40 error =  0.97 w =  2.59 b =  0.84\n",
      "epoch =  44 error =  0.97 w =  2.59 b =  0.84\n",
      "epoch =  48 error =  0.97 w =  2.59 b =  0.84\n",
      "epoch =  52 error =  0.97 w =  2.6 b =  0.85\n",
      "epoch =  56 error =  0.97 w =  2.6 b =  0.85\n",
      "epoch =  60 error =  0.97 w =  2.6 b =  0.85\n",
      "epoch =  64 error =  0.97 w =  2.6 b =  0.85\n",
      "epoch =  68 error =  0.97 w =  2.6 b =  0.85\n",
      "epoch =  72 error =  0.97 w =  2.6 b =  0.85\n",
      "epoch =  76 error =  0.97 w =  2.6 b =  0.85\n",
      "epoch =  80 error =  0.97 w =  2.6 b =  0.85\n",
      "epoch =  84 error =  0.97 w =  2.6 b =  0.85\n",
      "epoch =  88 error =  0.97 w =  2.6 b =  0.85\n",
      "epoch =  92 error =  0.97 w =  2.6 b =  0.85\n",
      "epoch =  96 error =  0.97 w =  2.6 b =  0.85\n",
      "\n",
      "epoch =  99 error =  0.97 w =  2.6 b =  0.85\n"
     ]
    }
   ],
   "source": [
    "w = np.random.randn()\n",
    "b = np.random.randn()\n",
    "\n",
    "lr = 0.1    # learning rate\n",
    "n_epoch = 100\n",
    "\n",
    "for epoch in range(n_epoch):\n",
    "    y_pred = w * x + b\n",
    "    error = ((y_pred - y) ** 2).mean()   # MSE - mean square error\n",
    "    if error < 0.1:\n",
    "        break\n",
    "    w = w - lr * ((y_pred - y) * x).mean()\n",
    "    b = b - lr * (y_pred - y).mean()\n",
    "    \n",
    "    if (epoch%4 == 0):\n",
    "        print(\"epoch = \", epoch, \"error = \", error.round(2), \"w = \", w.round(2), \"b = \", b.round(2))\n",
    "        \n",
    "print(\"\\nepoch = \", epoch, \"error = \", error.round(2), \"w = \", w.round(2), \"b = \", b.round(2))"
   ]
  },
  {
   "cell_type": "markdown",
   "metadata": {},
   "source": [
    "# Using ML Library Function"
   ]
  },
  {
   "cell_type": "code",
   "execution_count": 44,
   "metadata": {},
   "outputs": [
    {
     "data": {
      "text/plain": [
       "LinearRegression(copy_X=True, fit_intercept=True, n_jobs=None,\n",
       "         normalize=False)"
      ]
     },
     "execution_count": 44,
     "metadata": {},
     "output_type": "execute_result"
    }
   ],
   "source": [
    "from sklearn.linear_model import LinearRegression\n",
    "\n",
    "x = np.random.randn(n)\n",
    "y = 2.5 * x + 0.7           # w = 2.5, b = 0.7\n",
    "y = y + np.random.randn(n) * 0.5  # noise\n",
    "\n",
    "model = LinearRegression()\n",
    "model.fit(x.reshape(-1,1),y)"
   ]
  },
  {
   "cell_type": "code",
   "execution_count": 45,
   "metadata": {},
   "outputs": [
    {
     "data": {
      "text/plain": [
       "(array([2.58755344]), 0.6901518649542586)"
      ]
     },
     "execution_count": 45,
     "metadata": {},
     "output_type": "execute_result"
    }
   ],
   "source": [
    "model.coef_, model.intercept_    # w, b"
   ]
  },
  {
   "cell_type": "code",
   "execution_count": 46,
   "metadata": {},
   "outputs": [
    {
     "data": {
      "text/plain": [
       "[<matplotlib.lines.Line2D at 0x1a1a6136d8>]"
      ]
     },
     "execution_count": 46,
     "metadata": {},
     "output_type": "execute_result"
    },
    {
     "data": {
      "image/png": "[encoded data removed]",
      "text/plain": [
       "<Figure size 360x360 with 1 Axes>"
      ]
     },
     "metadata": {
      "needs_background": "light"
     },
     "output_type": "display_data"
    }
   ],
   "source": [
    "plt.figure(figsize=(5,5))\n",
    "plt.scatter(x,y)\n",
    "\n",
    "xx = np.linspace(-3,3,100)\n",
    "yy = model.coef_ * xx + model.intercept_\n",
    "plt.plot(xx,yy,c='r')"
   ]
  },
  {
   "cell_type": "code",
   "execution_count": 47,
   "metadata": {},
   "outputs": [
    {
     "data": {
      "text/plain": [
       "0.9607764440817683"
      ]
     },
     "execution_count": 47,
     "metadata": {},
     "output_type": "execute_result"
    }
   ],
   "source": [
    "model.score(x.reshape(-1,1),y)"
   ]
  },
  {
   "cell_type": "code",
   "execution_count": null,
   "metadata": {},
   "outputs": [],
   "source": []
  }
 ],
 "metadata": {
  "kernelspec": {
   "display_name": "Python 3",
   "language": "python",
   "name": "python3"
  },
  "language_info": {
   "codemirror_mode": {
    "name": "ipython",
    "version": 3
   },
   "file_extension": ".py",
   "mimetype": "text/x-python",
   "name": "python",
   "nbconvert_exporter": "python",
   "pygments_lexer": "ipython3",
   "version": "3.7.3"
  }
 },
 "nbformat": 4,
 "nbformat_minor": 2
}
